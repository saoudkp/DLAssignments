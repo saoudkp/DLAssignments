{
  "nbformat": 4,
  "nbformat_minor": 0,
  "metadata": {
    "kernelspec": {
      "display_name": "Python 3",
      "language": "python",
      "name": "python3"
    },
    "language_info": {
      "codemirror_mode": {
        "name": "ipython",
        "version": 3
      },
      "file_extension": ".py",
      "mimetype": "text/x-python",
      "name": "python",
      "nbconvert_exporter": "python",
      "pygments_lexer": "ipython3",
      "version": "3.7.6"
    },
    "colab": {
      "name": "Credit Card Fraud Detection assignment.ipynb",
      "provenance": [],
      "collapsed_sections": [],
      "toc_visible": true
    }
  },
  "cells": [
    {
      "cell_type": "markdown",
      "metadata": {
        "id": "yQfuIXJLeslW"
      },
      "source": [
        "# Credit Card Fraud Detection::"
      ]
    },
    {
      "cell_type": "markdown",
      "metadata": {
        "id": "RjM8QTWXesld"
      },
      "source": [
        "Download dataset from this link:\n",
        "\n",
        "https://www.kaggle.com/mlg-ulb/creditcardfraud"
      ]
    },
    {
      "cell_type": "markdown",
      "metadata": {
        "id": "1QjICarNesld"
      },
      "source": [
        "# Description about dataset::"
      ]
    },
    {
      "cell_type": "markdown",
      "metadata": {
        "id": "l5K3TQgNesle"
      },
      "source": [
        "The datasets contains transactions made by credit cards in September 2013 by european cardholders.\n",
        "This dataset presents transactions that occurred in two days, where we have 492 frauds out of 284,807 transactions. The dataset is highly unbalanced, the positive class (frauds) account for 0.172% of all transactions.\n",
        "\n",
        "It contains only numerical input variables which are the result of a PCA transformation. Unfortunately, due to confidentiality issues, we cannot provide the original features and more background information about the data. Features V1, V2, … V28 are the principal components obtained with PCA, the only features which have not been transformed with PCA are 'Time' and 'Amount'. Feature 'Time' contains the seconds elapsed between each transaction and the first transaction in the dataset. The feature 'Amount' is the transaction Amount, this feature can be used for example-dependant cost-senstive learning. \n",
        "\n",
        "\n",
        "### Feature 'Class' is the response variable and it takes value 1 in case of fraud and 0 otherwise."
      ]
    },
    {
      "cell_type": "markdown",
      "metadata": {
        "id": "vBypL2DKesle"
      },
      "source": [
        "# WORKFLOW :"
      ]
    },
    {
      "cell_type": "markdown",
      "metadata": {
        "id": "V7G_i_1Teslf"
      },
      "source": [
        "1.Load Data\n",
        "\n",
        "2.Check Missing Values ( If Exist ; Fill each record with mean of its feature )\n",
        "\n",
        "3.Standardized the Input Variables. \n",
        "\n",
        "4.Split into 50% Training(Samples,Labels) , 30% Test(Samples,Labels) and 20% Validation Data(Samples,Labels).\n",
        "\n",
        "5.Model : input Layer (No. of features ), 3 hidden layers including 10,8,6 unit & Output Layer with activation function relu/tanh (check by experiment).\n",
        "\n",
        "6.Compilation Step (Note : Its a Binary problem , select loss , metrics according to it)\n",
        "\n",
        "7.Train the Model with Epochs (100).\n",
        "\n",
        "8.If the model gets overfit tune your model by changing the units , No. of layers , epochs , add dropout layer or add Regularizer according to the need .\n",
        "\n",
        "9.Prediction should be > 92%\n",
        "10.Evaluation Step\n",
        "11Prediction\n"
      ]
    },
    {
      "cell_type": "markdown",
      "metadata": {
        "id": "PicZZBz9eslf"
      },
      "source": [
        "# Task::"
      ]
    },
    {
      "cell_type": "markdown",
      "metadata": {
        "id": "7oNLDkAReslf"
      },
      "source": [
        "## Identify fraudulent credit card transactions."
      ]
    },
    {
      "cell_type": "code",
      "metadata": {
        "id": "K2JATocgeslg"
      },
      "source": [
        "import numpy as np\n",
        "import pandas as pd\n",
        "import tensorflow as tf\n",
        "from tensorflow.keras import layers\n",
        "from tensorflow.keras import models\n",
        "import matplotlib.pyplot as plt\n",
        "from scipy import stats\n",
        "from sklearn.model_selection import train_test_split\n",
        "from sklearn.preprocessing import StandardScaler"
      ],
      "execution_count": null,
      "outputs": []
    },
    {
      "cell_type": "code",
      "metadata": {
        "colab": {
          "base_uri": "https://localhost:8080/",
          "height": 217
        },
        "id": "hvYoi7tjeslh",
        "outputId": "268be879-3db1-45e9-988c-9f8c977562e5"
      },
      "source": [
        "data = pd.read_csv('creditcard.csv')\n",
        "data.head()"
      ],
      "execution_count": null,
      "outputs": [
        {
          "output_type": "execute_result",
          "data": {
            "text/html": [
              "<div>\n",
              "<style scoped>\n",
              "    .dataframe tbody tr th:only-of-type {\n",
              "        vertical-align: middle;\n",
              "    }\n",
              "\n",
              "    .dataframe tbody tr th {\n",
              "        vertical-align: top;\n",
              "    }\n",
              "\n",
              "    .dataframe thead th {\n",
              "        text-align: right;\n",
              "    }\n",
              "</style>\n",
              "<table border=\"1\" class=\"dataframe\">\n",
              "  <thead>\n",
              "    <tr style=\"text-align: right;\">\n",
              "      <th></th>\n",
              "      <th>Time</th>\n",
              "      <th>V1</th>\n",
              "      <th>V2</th>\n",
              "      <th>V3</th>\n",
              "      <th>V4</th>\n",
              "      <th>V5</th>\n",
              "      <th>V6</th>\n",
              "      <th>V7</th>\n",
              "      <th>V8</th>\n",
              "      <th>V9</th>\n",
              "      <th>V10</th>\n",
              "      <th>V11</th>\n",
              "      <th>V12</th>\n",
              "      <th>V13</th>\n",
              "      <th>V14</th>\n",
              "      <th>V15</th>\n",
              "      <th>V16</th>\n",
              "      <th>V17</th>\n",
              "      <th>V18</th>\n",
              "      <th>V19</th>\n",
              "      <th>V20</th>\n",
              "      <th>V21</th>\n",
              "      <th>V22</th>\n",
              "      <th>V23</th>\n",
              "      <th>V24</th>\n",
              "      <th>V25</th>\n",
              "      <th>V26</th>\n",
              "      <th>V27</th>\n",
              "      <th>V28</th>\n",
              "      <th>Amount</th>\n",
              "      <th>Class</th>\n",
              "    </tr>\n",
              "  </thead>\n",
              "  <tbody>\n",
              "    <tr>\n",
              "      <th>0</th>\n",
              "      <td>0.0</td>\n",
              "      <td>-1.359807</td>\n",
              "      <td>-0.072781</td>\n",
              "      <td>2.536347</td>\n",
              "      <td>1.378155</td>\n",
              "      <td>-0.338321</td>\n",
              "      <td>0.462388</td>\n",
              "      <td>0.239599</td>\n",
              "      <td>0.098698</td>\n",
              "      <td>0.363787</td>\n",
              "      <td>0.090794</td>\n",
              "      <td>-0.551600</td>\n",
              "      <td>-0.617801</td>\n",
              "      <td>-0.991390</td>\n",
              "      <td>-0.311169</td>\n",
              "      <td>1.468177</td>\n",
              "      <td>-0.470401</td>\n",
              "      <td>0.207971</td>\n",
              "      <td>0.025791</td>\n",
              "      <td>0.403993</td>\n",
              "      <td>0.251412</td>\n",
              "      <td>-0.018307</td>\n",
              "      <td>0.277838</td>\n",
              "      <td>-0.110474</td>\n",
              "      <td>0.066928</td>\n",
              "      <td>0.128539</td>\n",
              "      <td>-0.189115</td>\n",
              "      <td>0.133558</td>\n",
              "      <td>-0.021053</td>\n",
              "      <td>149.62</td>\n",
              "      <td>0</td>\n",
              "    </tr>\n",
              "    <tr>\n",
              "      <th>1</th>\n",
              "      <td>0.0</td>\n",
              "      <td>1.191857</td>\n",
              "      <td>0.266151</td>\n",
              "      <td>0.166480</td>\n",
              "      <td>0.448154</td>\n",
              "      <td>0.060018</td>\n",
              "      <td>-0.082361</td>\n",
              "      <td>-0.078803</td>\n",
              "      <td>0.085102</td>\n",
              "      <td>-0.255425</td>\n",
              "      <td>-0.166974</td>\n",
              "      <td>1.612727</td>\n",
              "      <td>1.065235</td>\n",
              "      <td>0.489095</td>\n",
              "      <td>-0.143772</td>\n",
              "      <td>0.635558</td>\n",
              "      <td>0.463917</td>\n",
              "      <td>-0.114805</td>\n",
              "      <td>-0.183361</td>\n",
              "      <td>-0.145783</td>\n",
              "      <td>-0.069083</td>\n",
              "      <td>-0.225775</td>\n",
              "      <td>-0.638672</td>\n",
              "      <td>0.101288</td>\n",
              "      <td>-0.339846</td>\n",
              "      <td>0.167170</td>\n",
              "      <td>0.125895</td>\n",
              "      <td>-0.008983</td>\n",
              "      <td>0.014724</td>\n",
              "      <td>2.69</td>\n",
              "      <td>0</td>\n",
              "    </tr>\n",
              "    <tr>\n",
              "      <th>2</th>\n",
              "      <td>1.0</td>\n",
              "      <td>-1.358354</td>\n",
              "      <td>-1.340163</td>\n",
              "      <td>1.773209</td>\n",
              "      <td>0.379780</td>\n",
              "      <td>-0.503198</td>\n",
              "      <td>1.800499</td>\n",
              "      <td>0.791461</td>\n",
              "      <td>0.247676</td>\n",
              "      <td>-1.514654</td>\n",
              "      <td>0.207643</td>\n",
              "      <td>0.624501</td>\n",
              "      <td>0.066084</td>\n",
              "      <td>0.717293</td>\n",
              "      <td>-0.165946</td>\n",
              "      <td>2.345865</td>\n",
              "      <td>-2.890083</td>\n",
              "      <td>1.109969</td>\n",
              "      <td>-0.121359</td>\n",
              "      <td>-2.261857</td>\n",
              "      <td>0.524980</td>\n",
              "      <td>0.247998</td>\n",
              "      <td>0.771679</td>\n",
              "      <td>0.909412</td>\n",
              "      <td>-0.689281</td>\n",
              "      <td>-0.327642</td>\n",
              "      <td>-0.139097</td>\n",
              "      <td>-0.055353</td>\n",
              "      <td>-0.059752</td>\n",
              "      <td>378.66</td>\n",
              "      <td>0</td>\n",
              "    </tr>\n",
              "    <tr>\n",
              "      <th>3</th>\n",
              "      <td>1.0</td>\n",
              "      <td>-0.966272</td>\n",
              "      <td>-0.185226</td>\n",
              "      <td>1.792993</td>\n",
              "      <td>-0.863291</td>\n",
              "      <td>-0.010309</td>\n",
              "      <td>1.247203</td>\n",
              "      <td>0.237609</td>\n",
              "      <td>0.377436</td>\n",
              "      <td>-1.387024</td>\n",
              "      <td>-0.054952</td>\n",
              "      <td>-0.226487</td>\n",
              "      <td>0.178228</td>\n",
              "      <td>0.507757</td>\n",
              "      <td>-0.287924</td>\n",
              "      <td>-0.631418</td>\n",
              "      <td>-1.059647</td>\n",
              "      <td>-0.684093</td>\n",
              "      <td>1.965775</td>\n",
              "      <td>-1.232622</td>\n",
              "      <td>-0.208038</td>\n",
              "      <td>-0.108300</td>\n",
              "      <td>0.005274</td>\n",
              "      <td>-0.190321</td>\n",
              "      <td>-1.175575</td>\n",
              "      <td>0.647376</td>\n",
              "      <td>-0.221929</td>\n",
              "      <td>0.062723</td>\n",
              "      <td>0.061458</td>\n",
              "      <td>123.50</td>\n",
              "      <td>0</td>\n",
              "    </tr>\n",
              "    <tr>\n",
              "      <th>4</th>\n",
              "      <td>2.0</td>\n",
              "      <td>-1.158233</td>\n",
              "      <td>0.877737</td>\n",
              "      <td>1.548718</td>\n",
              "      <td>0.403034</td>\n",
              "      <td>-0.407193</td>\n",
              "      <td>0.095921</td>\n",
              "      <td>0.592941</td>\n",
              "      <td>-0.270533</td>\n",
              "      <td>0.817739</td>\n",
              "      <td>0.753074</td>\n",
              "      <td>-0.822843</td>\n",
              "      <td>0.538196</td>\n",
              "      <td>1.345852</td>\n",
              "      <td>-1.119670</td>\n",
              "      <td>0.175121</td>\n",
              "      <td>-0.451449</td>\n",
              "      <td>-0.237033</td>\n",
              "      <td>-0.038195</td>\n",
              "      <td>0.803487</td>\n",
              "      <td>0.408542</td>\n",
              "      <td>-0.009431</td>\n",
              "      <td>0.798278</td>\n",
              "      <td>-0.137458</td>\n",
              "      <td>0.141267</td>\n",
              "      <td>-0.206010</td>\n",
              "      <td>0.502292</td>\n",
              "      <td>0.219422</td>\n",
              "      <td>0.215153</td>\n",
              "      <td>69.99</td>\n",
              "      <td>0</td>\n",
              "    </tr>\n",
              "  </tbody>\n",
              "</table>\n",
              "</div>"
            ],
            "text/plain": [
              "   Time        V1        V2        V3  ...       V27       V28  Amount  Class\n",
              "0   0.0 -1.359807 -0.072781  2.536347  ...  0.133558 -0.021053  149.62      0\n",
              "1   0.0  1.191857  0.266151  0.166480  ... -0.008983  0.014724    2.69      0\n",
              "2   1.0 -1.358354 -1.340163  1.773209  ... -0.055353 -0.059752  378.66      0\n",
              "3   1.0 -0.966272 -0.185226  1.792993  ...  0.062723  0.061458  123.50      0\n",
              "4   2.0 -1.158233  0.877737  1.548718  ...  0.219422  0.215153   69.99      0\n",
              "\n",
              "[5 rows x 31 columns]"
            ]
          },
          "metadata": {
            "tags": []
          },
          "execution_count": 15
        }
      ]
    },
    {
      "cell_type": "code",
      "metadata": {
        "colab": {
          "base_uri": "https://localhost:8080/"
        },
        "id": "8Ok4pufnesli",
        "outputId": "082bc145-3669-43a9-905a-1162ed6a72bf"
      },
      "source": [
        "data.info()"
      ],
      "execution_count": null,
      "outputs": [
        {
          "output_type": "stream",
          "text": [
            "<class 'pandas.core.frame.DataFrame'>\n",
            "RangeIndex: 284807 entries, 0 to 284806\n",
            "Data columns (total 31 columns):\n",
            " #   Column  Non-Null Count   Dtype  \n",
            "---  ------  --------------   -----  \n",
            " 0   Time    284807 non-null  float64\n",
            " 1   V1      284807 non-null  float64\n",
            " 2   V2      284807 non-null  float64\n",
            " 3   V3      284807 non-null  float64\n",
            " 4   V4      284807 non-null  float64\n",
            " 5   V5      284807 non-null  float64\n",
            " 6   V6      284807 non-null  float64\n",
            " 7   V7      284807 non-null  float64\n",
            " 8   V8      284807 non-null  float64\n",
            " 9   V9      284807 non-null  float64\n",
            " 10  V10     284807 non-null  float64\n",
            " 11  V11     284807 non-null  float64\n",
            " 12  V12     284807 non-null  float64\n",
            " 13  V13     284807 non-null  float64\n",
            " 14  V14     284807 non-null  float64\n",
            " 15  V15     284807 non-null  float64\n",
            " 16  V16     284807 non-null  float64\n",
            " 17  V17     284807 non-null  float64\n",
            " 18  V18     284807 non-null  float64\n",
            " 19  V19     284807 non-null  float64\n",
            " 20  V20     284807 non-null  float64\n",
            " 21  V21     284807 non-null  float64\n",
            " 22  V22     284807 non-null  float64\n",
            " 23  V23     284807 non-null  float64\n",
            " 24  V24     284807 non-null  float64\n",
            " 25  V25     284807 non-null  float64\n",
            " 26  V26     284807 non-null  float64\n",
            " 27  V27     284807 non-null  float64\n",
            " 28  V28     284807 non-null  float64\n",
            " 29  Amount  284807 non-null  float64\n",
            " 30  Class   284807 non-null  int64  \n",
            "dtypes: float64(30), int64(1)\n",
            "memory usage: 67.4 MB\n"
          ],
          "name": "stdout"
        }
      ]
    },
    {
      "cell_type": "code",
      "metadata": {
        "colab": {
          "base_uri": "https://localhost:8080/"
        },
        "id": "6ZFzG48Cesli",
        "outputId": "8ad0feab-f6aa-469b-ee3a-d7b2c7f3c4df"
      },
      "source": [
        "#find null values\n",
        "data.isna().sum()"
      ],
      "execution_count": null,
      "outputs": [
        {
          "output_type": "execute_result",
          "data": {
            "text/plain": [
              "Time      0\n",
              "V1        0\n",
              "V2        0\n",
              "V3        0\n",
              "V4        0\n",
              "V5        0\n",
              "V6        0\n",
              "V7        0\n",
              "V8        0\n",
              "V9        0\n",
              "V10       0\n",
              "V11       0\n",
              "V12       0\n",
              "V13       0\n",
              "V14       0\n",
              "V15       0\n",
              "V16       0\n",
              "V17       0\n",
              "V18       0\n",
              "V19       0\n",
              "V20       0\n",
              "V21       0\n",
              "V22       0\n",
              "V23       0\n",
              "V24       0\n",
              "V25       0\n",
              "V26       0\n",
              "V27       0\n",
              "V28       0\n",
              "Amount    0\n",
              "Class     0\n",
              "dtype: int64"
            ]
          },
          "metadata": {
            "tags": []
          },
          "execution_count": 17
        }
      ]
    },
    {
      "cell_type": "code",
      "metadata": {
        "id": "VfR812QWqI0a"
      },
      "source": [
        ""
      ],
      "execution_count": null,
      "outputs": []
    },
    {
      "cell_type": "markdown",
      "metadata": {
        "id": "8lYqVUemqKZj"
      },
      "source": [
        "## Standardization of Time and Amount Features "
      ]
    },
    {
      "cell_type": "code",
      "metadata": {
        "colab": {
          "base_uri": "https://localhost:8080/"
        },
        "id": "qj90kOQ5esli",
        "outputId": "0bc3a951-67fd-4a38-e35c-b33d02cf10a2"
      },
      "source": [
        "#Standardization of data\n",
        "data.Time = stats.zscore(data['Time'])\n",
        "data.Amount = stats.zscore(data['Amount'])\n",
        "data.Amount.head"
      ],
      "execution_count": null,
      "outputs": [
        {
          "output_type": "execute_result",
          "data": {
            "text/plain": [
              "<bound method NDFrame.head of 0         0.244964\n",
              "1        -0.342475\n",
              "2         1.160686\n",
              "3         0.140534\n",
              "4        -0.073403\n",
              "            ...   \n",
              "284802   -0.350151\n",
              "284803   -0.254117\n",
              "284804   -0.081839\n",
              "284805   -0.313249\n",
              "284806    0.514355\n",
              "Name: Amount, Length: 284807, dtype: float64>"
            ]
          },
          "metadata": {
            "tags": []
          },
          "execution_count": 182
        }
      ]
    },
    {
      "cell_type": "markdown",
      "metadata": {
        "id": "2Yn2PIyBqdvp"
      },
      "source": [
        "## Train, Test Splitting"
      ]
    },
    {
      "cell_type": "code",
      "metadata": {
        "id": "lNEtFDlheslj"
      },
      "source": [
        "#split test train data\n",
        "X = data.iloc[:,:-1].astype('float32')\n",
        "y = data.iloc[:,-1].astype('int32')\n",
        "X_train, X_test, y_train, y_test = train_test_split(X, y, test_size=0.3, random_state = 786)"
      ],
      "execution_count": null,
      "outputs": []
    },
    {
      "cell_type": "markdown",
      "metadata": {
        "id": "TwqJ-wqFeslj"
      },
      "source": [
        "<h2>Building and Compiling a Deep Neural Network Model</h2>"
      ]
    },
    {
      "cell_type": "code",
      "metadata": {
        "id": "EDZtxOHgeslj"
      },
      "source": [
        "def build_compile_model(act,opti):\n",
        "  from tensorflow.keras import regularizers\n",
        "  print('*****************************')\n",
        "  print(f'Activation Function = {act}')\n",
        "  print(f'Optimizer = {opti}')\n",
        "  dnn = models.Sequential()\n",
        "  dnn.add(layers.Dense(32, activation=act,kernel_regularizer=regularizers.l1_l2(l1=0.001, l2=0.001),bias_regularizer=regularizers.l2(0.001), input_shape=(X_train.shape[1],)))\n",
        "  dnn.add(layers.Dropout(0.5))\n",
        "  dnn.add(layers.Dense(16, activation=act,kernel_regularizer=regularizers.l1_l2(l1=0.001, l2=0.001),bias_regularizer=regularizers.l2(0.001)))\n",
        "  dnn.add(layers.Dropout(0.5))\n",
        "  dnn.add(layers.Dense(1, activation='sigmoid'))\n",
        "  dnn.compile(optimizer=opti, loss='binary_crossentropy', metrics=['accuracy', tf.keras.metrics.Recall()])\n",
        "  return dnn"
      ],
      "execution_count": null,
      "outputs": []
    },
    {
      "cell_type": "markdown",
      "metadata": {
        "id": "0I1dPFDGtofG"
      },
      "source": [
        "<h2>Predicting, Visualizing loss and Accuracy and Evaluating Performance of a Deep Neural Network Model</h2>"
      ]
    },
    {
      "cell_type": "code",
      "metadata": {
        "id": "TO2q_wypeslk"
      },
      "source": [
        "def predict_evaluate_model(dnn,batch,epoch):\n",
        "  print(f'Batch size = {batch}')\n",
        "  print(f'Number of epochs = {epoch}')\n",
        "  print('*****************************')\n",
        "  dnn_history = dnn.fit(X_train, y_train, class_weight={0: 1., 1: 4.}, batch_size=batch, validation_split=0.2, epochs=epoch)\n",
        "  print('Check Learning Curve of Training and Validation Loss to determine underfitting, overfitting and bestfitting')\n",
        "  loss_train = dnn_history.history['loss']\n",
        "  loss_val = dnn_history.history['val_loss']\n",
        "  plt.plot(loss_train, 'g', label='Training loss')\n",
        "  plt.plot(loss_val, 'r', label='validation loss')\n",
        "  plt.title('Training and Validation loss')\n",
        "  plt.xlabel('Epochs')\n",
        "  plt.ylabel('Loss')\n",
        "  plt.legend()\n",
        "  plt.show()\n",
        "  print('Check Learning Curve of Training and Validation Accuracy')\n",
        "  loss_train = dnn_history.history['accuracy']\n",
        "  loss_val = dnn_history.history['val_accuracy']\n",
        "  plt.plot(loss_train, 'g', label='Training accuracy')\n",
        "  plt.plot(loss_val, 'r', label='validation accuracy')\n",
        "  plt.title('Training and Validation Accuracy Score')\n",
        "  plt.xlabel('Epochs')\n",
        "  plt.ylabel('Accuracy Score')\n",
        "  plt.legend()\n",
        "  plt.show()\n",
        "  print('Check Confusion Matrix, Accuracy Score, Precision and Recall')\n",
        "  from sklearn.metrics import confusion_matrix, ConfusionMatrixDisplay\n",
        "  y_pred = dnn.predict(X_test)\n",
        "  # we have float values in y_pred and binary in y_test so to map it correctly with 0s and 1s we assume that value > 0.5 is considered True (Fraud) else False (No Fraud)\n",
        "  y_pred = y_pred > 0.5\n",
        "  # converting y_pred values of True / False to 1s and 0s\n",
        "  y_pred = y_pred*1\n",
        "  cm = confusion_matrix(y_test, y_pred)\n",
        "  tn, fp, fn, tp = cm.ravel()\n",
        "  (tn, fp, fn, tp )\n",
        "  precision = (tp/(tp+fp)) \n",
        "  recall = (tp/(tp+fn)) \n",
        "  accuracy = ((tp+tn)/(tp+tn+fp+fn)) * 100\n",
        "  f1 = 2*((precision*recall)/(precision+recall))\n",
        "  print(f'True Positive: {tp}\\nTrue Negative: {tn}\\nFalse Positive: {fp}\\nFalse Negative: {fn}')\n",
        "  print(f'accuracy: {accuracy:.4f}%\\nHence, accuracy score is not that much valuable so let us see precision, recall and F1 Score metrics to have a good idea of model')\n",
        "  print(f'precision: {precision*100:.2f}%\\nrecall: {recall*100:.2f}%')\n",
        "  print(f'F1 score conveys the balance between the precision and the recall\\nF1 Score = {f1*100:.2f}%')\n",
        "  cmd = ConfusionMatrixDisplay(cm,display_labels=['No Fraud','Fraud'])\n",
        "  cmd.plot(values_format='d', cmap='Greens')"
      ],
      "execution_count": null,
      "outputs": []
    },
    {
      "cell_type": "markdown",
      "metadata": {
        "id": "SBuM8eW0EYsE"
      },
      "source": [
        "Precision-Recall is a useful measure of success of prediction when the classes are very imbalanced. ... A high area under the curve represents both high recall and high precision, where high precision relates to a low false positive rate, and high recall relates to a low false negative rate."
      ]
    },
    {
      "cell_type": "markdown",
      "metadata": {
        "id": "0-uKflIdWe9c"
      },
      "source": [
        "**NOTE**: To Train the best model choose parameters\n",
        "\n",
        "\n",
        "*   Optimizer: Adam\n",
        "*   Activation Function: relu or tanh\n",
        "*   Epochs: 10 - 15\n",
        "*   Batch Size: 64\n",
        "\n",
        "\n",
        "\n"
      ]
    },
    {
      "cell_type": "code",
      "metadata": {
        "colab": {
          "base_uri": "https://localhost:8080/",
          "height": 1000
        },
        "id": "UFtpIvP2XKDI",
        "outputId": "0fca5739-dc6b-4aae-c5dd-307844e89c55"
      },
      "source": [
        "predict_evaluate_model(build_compile_model('tanh','adam'),64,10)"
      ],
      "execution_count": null,
      "outputs": [
        {
          "output_type": "stream",
          "text": [
            "*****************************\n",
            "Activation Function = tanh\n",
            "Optimizer = adam\n",
            "Batch size = 64\n",
            "Number of epochs = 10\n",
            "*****************************\n",
            "Epoch 1/10\n",
            "2493/2493 [==============================] - 5s 2ms/step - loss: 0.3662 - accuracy: 0.9114 - recall_35: 0.4721 - val_loss: 0.0282 - val_accuracy: 0.9993 - val_recall_35: 0.7945\n",
            "Epoch 2/10\n",
            "2493/2493 [==============================] - 4s 2ms/step - loss: 0.0355 - accuracy: 0.9990 - recall_35: 0.5814 - val_loss: 0.0191 - val_accuracy: 0.9994 - val_recall_35: 0.7671\n",
            "Epoch 3/10\n",
            "2493/2493 [==============================] - 4s 2ms/step - loss: 0.0296 - accuracy: 0.9990 - recall_35: 0.5684 - val_loss: 0.0184 - val_accuracy: 0.9993 - val_recall_35: 0.7945\n",
            "Epoch 4/10\n",
            "2493/2493 [==============================] - 4s 2ms/step - loss: 0.0270 - accuracy: 0.9990 - recall_35: 0.6248 - val_loss: 0.0154 - val_accuracy: 0.9994 - val_recall_35: 0.7671\n",
            "Epoch 5/10\n",
            "2493/2493 [==============================] - 4s 2ms/step - loss: 0.0266 - accuracy: 0.9990 - recall_35: 0.5950 - val_loss: 0.0141 - val_accuracy: 0.9994 - val_recall_35: 0.7671\n",
            "Epoch 6/10\n",
            "2493/2493 [==============================] - 4s 2ms/step - loss: 0.0248 - accuracy: 0.9990 - recall_35: 0.6063 - val_loss: 0.0129 - val_accuracy: 0.9994 - val_recall_35: 0.7534\n",
            "Epoch 7/10\n",
            "2493/2493 [==============================] - 4s 2ms/step - loss: 0.0279 - accuracy: 0.9989 - recall_35: 0.6076 - val_loss: 0.0157 - val_accuracy: 0.9992 - val_recall_35: 0.7945\n",
            "Epoch 8/10\n",
            "2493/2493 [==============================] - 4s 2ms/step - loss: 0.0245 - accuracy: 0.9990 - recall_35: 0.5716 - val_loss: 0.0144 - val_accuracy: 0.9993 - val_recall_35: 0.7808\n",
            "Epoch 9/10\n",
            "2493/2493 [==============================] - 4s 2ms/step - loss: 0.0248 - accuracy: 0.9990 - recall_35: 0.6263 - val_loss: 0.0124 - val_accuracy: 0.9995 - val_recall_35: 0.7671\n",
            "Epoch 10/10\n",
            "2493/2493 [==============================] - 4s 2ms/step - loss: 0.0256 - accuracy: 0.9988 - recall_35: 0.5746 - val_loss: 0.0129 - val_accuracy: 0.9994 - val_recall_35: 0.7808\n",
            "Check Learning Curve of Training and Validation Loss to determine underfitting, overfitting and bestfitting\n"
          ],
          "name": "stdout"
        },
        {
          "output_type": "display_data",
          "data": {
            "image/png": "[encoded data removed]",
            "text/plain": [
              "<Figure size 432x288 with 1 Axes>"
            ]
          },
          "metadata": {
            "tags": [],
            "needs_background": "light"
          }
        },
        {
          "output_type": "stream",
          "text": [
            "Check Learning Curve of Training and Validation Accuracy\n"
          ],
          "name": "stdout"
        },
        {
          "output_type": "display_data",
          "data": {
            "image/png": "[encoded data removed]",
            "text/plain": [
              "<Figure size 432x288 with 1 Axes>"
            ]
          },
          "metadata": {
            "tags": [],
            "needs_background": "light"
          }
        },
        {
          "output_type": "stream",
          "text": [
            "Check Confusion Matrix, Accuracy Score, Precision and Recall\n",
            "True Positive: 125\n",
            "True Negative: 85278\n",
            "False Positive: 19\n",
            "False Negative: 21\n",
            "accuracy: 99.9532%\n",
            "Hence, accuracy score is not that much valuable so let us see precision, recall and F1 Score metrics to have a good idea of model\n",
            "precision: 86.81%\n",
            "recall: 85.62%\n",
            "F1 score conveys the balance between the precision and the recall\n",
            "F1 Score = 86.21%\n"
          ],
          "name": "stdout"
        },
        {
          "output_type": "display_data",
          "data": {
            "image/png": "[encoded data removed]",
            "text/plain": [
              "<Figure size 432x288 with 2 Axes>"
            ]
          },
          "metadata": {
            "tags": [],
            "needs_background": "light"
          }
        }
      ]
    },
    {
      "cell_type": "code",
      "metadata": {
        "colab": {
          "base_uri": "https://localhost:8080/",
          "height": 1000
        },
        "id": "ciFW15aZXu5h",
        "outputId": "b3ff0130-6ac7-4a10-e972-aa8ab8c10fdc"
      },
      "source": [
        "predict_evaluate_model(build_compile_model('relu','adam'),64,10)"
      ],
      "execution_count": null,
      "outputs": [
        {
          "output_type": "stream",
          "text": [
            "*****************************\n",
            "Activation Function = relu\n",
            "Optimizer = adam\n",
            "Batch size = 64\n",
            "Number of epochs = 10\n",
            "*****************************\n",
            "Epoch 1/10\n",
            "2493/2493 [==============================] - 5s 2ms/step - loss: 0.3698 - accuracy: 0.9573 - recall_37: 0.1423 - val_loss: 0.0627 - val_accuracy: 0.9993 - val_recall_37: 0.6438\n",
            "Epoch 2/10\n",
            "2493/2493 [==============================] - 4s 2ms/step - loss: 0.0697 - accuracy: 0.9988 - recall_37: 0.4344 - val_loss: 0.0250 - val_accuracy: 0.9994 - val_recall_37: 0.7671\n",
            "Epoch 3/10\n",
            "2493/2493 [==============================] - 4s 2ms/step - loss: 0.0372 - accuracy: 0.9990 - recall_37: 0.5352 - val_loss: 0.0165 - val_accuracy: 0.9994 - val_recall_37: 0.7534\n",
            "Epoch 4/10\n",
            "2493/2493 [==============================] - 4s 2ms/step - loss: 0.0306 - accuracy: 0.9988 - recall_37: 0.4932 - val_loss: 0.0137 - val_accuracy: 0.9995 - val_recall_37: 0.7671\n",
            "Epoch 5/10\n",
            "2493/2493 [==============================] - 4s 2ms/step - loss: 0.0269 - accuracy: 0.9990 - recall_37: 0.5652 - val_loss: 0.0126 - val_accuracy: 0.9995 - val_recall_37: 0.7671\n",
            "Epoch 6/10\n",
            "2493/2493 [==============================] - 4s 2ms/step - loss: 0.0256 - accuracy: 0.9989 - recall_37: 0.4883 - val_loss: 0.0117 - val_accuracy: 0.9994 - val_recall_37: 0.7260\n",
            "Epoch 7/10\n",
            "2493/2493 [==============================] - 4s 2ms/step - loss: 0.0246 - accuracy: 0.9990 - recall_37: 0.5377 - val_loss: 0.0126 - val_accuracy: 0.9994 - val_recall_37: 0.7534\n",
            "Epoch 8/10\n",
            "2493/2493 [==============================] - 4s 2ms/step - loss: 0.0240 - accuracy: 0.9991 - recall_37: 0.5277 - val_loss: 0.0130 - val_accuracy: 0.9993 - val_recall_37: 0.7808\n",
            "Epoch 9/10\n",
            "2493/2493 [==============================] - 4s 2ms/step - loss: 0.0274 - accuracy: 0.9987 - recall_37: 0.5284 - val_loss: 0.0118 - val_accuracy: 0.9995 - val_recall_37: 0.7671\n",
            "Epoch 10/10\n",
            "2493/2493 [==============================] - 4s 2ms/step - loss: 0.0226 - accuracy: 0.9991 - recall_37: 0.5908 - val_loss: 0.0109 - val_accuracy: 0.9994 - val_recall_37: 0.7671\n",
            "Check Learning Curve of Training and Validation Loss to determine underfitting, overfitting and bestfitting\n"
          ],
          "name": "stdout"
        },
        {
          "output_type": "display_data",
          "data": {
            "image/png": "[encoded data removed]",
            "text/plain": [
              "<Figure size 432x288 with 1 Axes>"
            ]
          },
          "metadata": {
            "tags": [],
            "needs_background": "light"
          }
        },
        {
          "output_type": "stream",
          "text": [
            "Check Learning Curve of Training and Validation Accuracy\n"
          ],
          "name": "stdout"
        },
        {
          "output_type": "display_data",
          "data": {
            "image/png": "[encoded data removed]",
            "text/plain": [
              "<Figure size 432x288 with 1 Axes>"
            ]
          },
          "metadata": {
            "tags": [],
            "needs_background": "light"
          }
        },
        {
          "output_type": "stream",
          "text": [
            "Check Confusion Matrix, Accuracy Score, Precision and Recall\n",
            "True Positive: 119\n",
            "True Negative: 85279\n",
            "False Positive: 18\n",
            "False Negative: 27\n",
            "accuracy: 99.9473%\n",
            "Hence, accuracy score is not that much valuable so let us see precision, recall and F1 Score metrics to have a good idea of model\n",
            "precision: 86.86%\n",
            "recall: 81.51%\n",
            "F1 score conveys the balance between the precision and the recall\n",
            "F1 Score = 84.10%\n"
          ],
          "name": "stdout"
        },
        {
          "output_type": "display_data",
          "data": {
            "image/png": "[encoded data removed]",
            "text/plain": [
              "<Figure size 432x288 with 2 Axes>"
            ]
          },
          "metadata": {
            "tags": [],
            "needs_background": "light"
          }
        }
      ]
    },
    {
      "cell_type": "code",
      "metadata": {
        "id": "bwUKEs6pb5x7"
      },
      "source": [
        ""
      ],
      "execution_count": null,
      "outputs": []
    }
  ]
}